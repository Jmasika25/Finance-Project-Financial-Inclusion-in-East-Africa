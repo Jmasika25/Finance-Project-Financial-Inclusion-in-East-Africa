{
  "nbformat": 4,
  "nbformat_minor": 0,
  "metadata": {
    "colab": {
      "provenance": []
    },
    "kernelspec": {
      "name": "python3",
      "display_name": "Python 3"
    },
    "language_info": {
      "name": "python"
    }
  },
  "cells": [
    {
      "cell_type": "code",
      "execution_count": 1,
      "metadata": {
        "id": "7OXT98fdP5su"
      },
      "outputs": [],
      "source": [
        "import pandas as pd\n",
        "import gradio as gr\n",
        "import joblib"
      ]
    },
    {
      "cell_type": "code",
      "source": [
        "# Load the saved model\n",
        "model = joblib.load(\"/content/bank_account_pipeline(1).pkl\")"
      ],
      "metadata": {
        "id": "I3ZEbc7zQhWg"
      },
      "execution_count": 2,
      "outputs": []
    },
    {
      "cell_type": "code",
      "source": [
        "# Create the Prediction Function\n",
        "def predict_bank_account(\n",
        "    country,location_type, cellphone_access,\n",
        "       household_size, age_of_respondent, gender_of_respondent,\n",
        "       relationship_with_head, marital_status, education_level,\n",
        "       job_type):\n",
        "  try:\n",
        "    df_input = pd.DataFrame([{\n",
        "        'country':country,'location_type':location_type, 'cellphone_access':cellphone_access,\n",
        "       'household_size':household_size, 'age_of_respondent':age_of_respondent, 'gender_of_respondent':gender_of_respondent,\n",
        "       'relationship_with_head':relationship_with_head, 'marital_status':marital_status, 'education_level':education_level,\n",
        "       'job_type':job_type\n",
        "    }])\n",
        "    pred = model.predict(df_input)[0]\n",
        "    return 'Has Bank Account' if pred == 1 else 'Has No Bank Account'\n",
        "  except Exception as e:\n",
        "    return f\"Error during prediction: {str(e)}\"\n"
      ],
      "metadata": {
        "id": "J5nMidL-QsLP"
      },
      "execution_count": 3,
      "outputs": []
    },
    {
      "cell_type": "code",
      "source": [
        "demo = gr.Interface(fn = predict_bank_account,\n",
        "                    inputs=[\n",
        "                        gr.Textbox(label='Country of Origin'),\n",
        "                        gr.Textbox(label='Location Type'),\n",
        "                        gr.Textbox(label='Cellphone Access'),\n",
        "                        gr.Number(label='Household size'),\n",
        "                        gr.Number(label='Age of Respondent'),\n",
        "                        gr.Textbox(label='Gender of Respondent'),\n",
        "                        gr.Textbox(label='Relationship with head of family'),\n",
        "                        gr.Textbox(label='Marital Status'),\n",
        "                        gr.Textbox(label='Education Level'),\n",
        "                        gr.Textbox(label='Job Type')\n",
        "                    ],\n",
        "                    outputs=gr.Textbox(label='Predictions'),\n",
        "                    title='Bank Account Predictor Model')\n",
        "if __name__ == \"__main__\":\n",
        "    demo.launch()"
      ],
      "metadata": {
        "colab": {
          "base_uri": "https://localhost:8080/",
          "height": 647
        },
        "id": "z3EmWOy5Sqf4",
        "outputId": "d6fc4b95-1a30-4946-e807-af7fcc672e3d"
      },
      "execution_count": 5,
      "outputs": [
        {
          "output_type": "stream",
          "name": "stdout",
          "text": [
            "It looks like you are running Gradio on a hosted Jupyter notebook, which requires `share=True`. Automatically setting `share=True` (you can turn this off by setting `share=False` in `launch()` explicitly).\n",
            "\n",
            "Colab notebook detected. To show errors in colab notebook, set debug=True in launch()\n",
            "* Running on public URL: https://35da6dc3b2a9f3ab55.gradio.live\n",
            "\n",
            "This share link expires in 1 week. For free permanent hosting and GPU upgrades, run `gradio deploy` from the terminal in the working directory to deploy to Hugging Face Spaces (https://huggingface.co/spaces)\n"
          ]
        },
        {
          "output_type": "display_data",
          "data": {
            "text/plain": [
              "<IPython.core.display.HTML object>"
            ],
            "text/html": [
              "<div><iframe src=\"https://35da6dc3b2a9f3ab55.gradio.live\" width=\"100%\" height=\"500\" allow=\"autoplay; camera; microphone; clipboard-read; clipboard-write;\" frameborder=\"0\" allowfullscreen></iframe></div>"
            ]
          },
          "metadata": {}
        }
      ]
    }
  ]
}